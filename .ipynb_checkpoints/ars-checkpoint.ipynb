{
 "cells": [
  {
   "cell_type": "markdown",
   "metadata": {},
   "source": [
    "# ARS in tensorflow \n",
    "\n",
    "This is from the paper: Simple random search provides a competitive approach to reinforcement learning. \n",
    "The link can be found [here](https://arxiv.org/pdf/1803.07055.pdf). \n",
    "\n",
    "Performance: \n",
    "\n",
    "![image](ars-performance.png)\n"
   ]
  },
  {
   "cell_type": "markdown",
   "metadata": {},
   "source": [
    "Import dependencies which are tensorflow, numpy, matplotlib and gym"
   ]
  },
  {
   "cell_type": "code",
   "execution_count": null,
   "metadata": {},
   "outputs": [],
   "source": [
    "import tensorflow as tf\n",
    "import numpy as np\n",
    "import matplotlib.pyplot as plot \n",
    "import gym \n",
    "from multiprocessing import Pool \n",
    "\n",
    "#random seed\n",
    "np.random.seed(0)\n",
    "\n"
   ]
  },
  {
   "cell_type": "markdown",
   "metadata": {},
   "source": [
    "Define class for the ARS algorithm using tensorflow"
   ]
  },
  {
   "cell_type": "code",
   "execution_count": null,
   "metadata": {},
   "outputs": [],
   "source": [
    "class ARS(object):\n",
    "    \n",
    "    def __init__(self, alpha = 0.1, N = 5, v = 0.1, b = 5, input_size = 4, output_size = 2):\n",
    "        self.alpha = alpha #step size \n",
    "        self.N = N #number of directions sampled\n",
    "        self.v = v #standard deviation of exploration noise\n",
    "        self.b = b #number of top performing directions to use \n",
    "        self.input_size = input_size #size of the state space\n",
    "        self.output_size = output_size #size of the action space\n",
    "        self.generate_model(np.zeros((self.input_size,self.output_size)))\n",
    "    \n",
    "    def generate_model(self, policy):\n",
    "        self.models = np.array([policy for _ in range(self.N * 2)])\n",
    "\n",
    "    def pertebate_models(self):\n",
    "        self.delta = np.random.normal(0, self.v, size=(self.N, self.input_size, self.output_size))\n",
    "        self.models = self.models + np.vstack([self.delta, - self.delta])\n",
    "        return self.models\n",
    "    \n",
    "    def update_model(self, results):\n",
    "        sorting = np.flip(np.argsort(results))[0:self.b]\n",
    "        std = np.max([0.0001,results[sorting].std()]) # if this goes to 0 it kills the algorithm.\n",
    "        policy = self.models[0] + ((self.alpha/(self.b*std)) * np.sum(np.multiply(ars.delta[sorting].T,results[sorting]).T, axis = 0))        \n",
    "        self.generate_model(policy)\n",
    "        return policy\n",
    "         "
   ]
  },
  {
   "cell_type": "code",
   "execution_count": null,
   "metadata": {},
   "outputs": [],
   "source": [
    "# this needs some functionality to handle an environment that has died. \n",
    "class PolicyEval(object):\n",
    "    \n",
    "    def __init__(self, automate = True, name = \"CartPole-v0\"):\n",
    "        self.env = gym.make(name) #one for each policy\n",
    "        self.env.seed(0)\n",
    "        self.actions = np.array([0,1])\n",
    "        self.limit = 200\n",
    "    \n",
    "    def eval_policy(self, state, policy):\n",
    "        linear_output = np.dot(state, policy)\n",
    "        probabilities = softmax(linear_output)            \n",
    "        action = np.random.choice(self.actions, p=probabilities)\n",
    "        return action\n",
    "    \n",
    "    def run_policy(self, policy):\n",
    "        states = []\n",
    "        iterations = 0\n",
    "        done = False\n",
    "        reward = 0\n",
    "        state = self.env.reset()\n",
    "        while iterations < self.limit and not done:\n",
    "            states.append(state)\n",
    "            state, r, done, _ = self.env.step(self.eval_policy(state, policy))\n",
    "            reward += r \n",
    "            iterations += 1\n",
    "        return reward, np.array(states)\n",
    "    "
   ]
  },
  {
   "cell_type": "code",
   "execution_count": null,
   "metadata": {},
   "outputs": [],
   "source": [
    "def automate_PolicyEval(policy):\n",
    "    run = PolicyEval()\n",
    "    return run.run_policy(policy)"
   ]
  },
  {
   "cell_type": "code",
   "execution_count": null,
   "metadata": {},
   "outputs": [],
   "source": [
    "def softmax(input_values):\n",
    "    exponential = np.exp(input_values)\n",
    "    sum_exponential = np.sum(exponential)\n",
    "    softmax = np.divide(exponential,sum_exponential)\n",
    "    return softmax "
   ]
  },
  {
   "cell_type": "code",
   "execution_count": null,
   "metadata": {},
   "outputs": [],
   "source": [
    "def running_average(data):\n",
    "    new_data =[]\n",
    "    for i in range(len(data)):\n",
    "        new_data.append(np.average(data[max(0, i - 20):i+20]))\n",
    "    return new_data\n",
    "        "
   ]
  },
  {
   "cell_type": "code",
   "execution_count": null,
   "metadata": {
    "scrolled": true
   },
   "outputs": [],
   "source": [
    "ars = ARS(0.00015,10,0.01,3,4,2)\n",
    "        \n",
    "episodes = 0 \n",
    "total_results = []\n",
    "while episodes < 1000:\n",
    "    results = []\n",
    "    ars.pertebate_models()\n",
    "    policies = ars.models\n",
    "    with Pool() as pool:  \n",
    "        reward_evaluate = pool.starmap_async(automate_PolicyEval, zip(policies))\n",
    "        reward_evaluate.wait()\n",
    "    output = np.array(reward_evaluate.get())\n",
    "    results = np.array([output[ind][0] for ind in range(ars.N * 2)])\n",
    "    states = np.array([output[ind][1] for ind in range(ars.N * 2)])\n",
    "    print(\"Max achieved in episode %d: %s\"%(episodes, np.max(results)))\n",
    "    total_results.append(np.max(results))\n",
    "    results = np.reshape(results, (2,ars.N))\n",
    "    results = np.subtract(results[0], results[1])\n",
    "    policy = ars.update_model(results)\n",
    "    episodes += 1 \n",
    "\n"
   ]
  },
  {
   "cell_type": "code",
   "execution_count": null,
   "metadata": {
    "scrolled": true
   },
   "outputs": [],
   "source": [
    "plot.plot(total_results)\n",
    "plot.plot(running_average(total_results))\n",
    "plot.ylabel('Reward')\n",
    "plot.xlabel('Episodes')\n",
    "plot.title('Reward on CartPole')\n",
    "plot.show()"
   ]
  }
 ],
 "metadata": {
  "kernelspec": {
   "display_name": "Python 3",
   "language": "python",
   "name": "python3"
  },
  "language_info": {
   "codemirror_mode": {
    "name": "ipython",
    "version": 3
   },
   "file_extension": ".py",
   "mimetype": "text/x-python",
   "name": "python",
   "nbconvert_exporter": "python",
   "pygments_lexer": "ipython3",
   "version": "3.6.8"
  }
 },
 "nbformat": 4,
 "nbformat_minor": 2
}
